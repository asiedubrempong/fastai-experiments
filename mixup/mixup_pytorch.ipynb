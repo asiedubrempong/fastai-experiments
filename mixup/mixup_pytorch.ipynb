{
 "cells": [
  {
   "cell_type": "markdown",
   "metadata": {},
   "source": [
    "# *mixup*: BEYOND EMPIRICAL RISK MINIMIZATION\n",
    "---\n",
    "PyTorch implementation, Uses Fastai for loading and processing the data"
   ]
  },
  {
   "cell_type": "code",
   "execution_count": 3,
   "metadata": {},
   "outputs": [],
   "source": [
    "# importing the fastai library also imports the neccessary PyTorch modules\n",
    "from fastai2.vision.all import *"
   ]
  },
  {
   "cell_type": "markdown",
   "metadata": {},
   "source": [
    "## Get the data"
   ]
  },
  {
   "cell_type": "code",
   "execution_count": 4,
   "metadata": {},
   "outputs": [
    {
     "data": {
      "text/plain": [
       "(#2) [Path('/home/jupyter/.fastai/data/mnist_png/training'),Path('/home/jupyter/.fastai/data/mnist_png/testing')]"
      ]
     },
     "execution_count": 4,
     "metadata": {},
     "output_type": "execute_result"
    }
   ],
   "source": [
    "path = untar_data(URLs.MNIST)\n",
    "path.ls()"
   ]
  },
  {
   "cell_type": "code",
   "execution_count": 5,
   "metadata": {},
   "outputs": [
    {
     "data": {
      "text/plain": [
       "(#2) [Path('training'),Path('testing')]"
      ]
     },
     "execution_count": 5,
     "metadata": {},
     "output_type": "execute_result"
    }
   ],
   "source": [
    "Path.BASE_PATH = path\n",
    "path.ls()"
   ]
  },
  {
   "cell_type": "code",
   "execution_count": 32,
   "metadata": {},
   "outputs": [],
   "source": [
    "dblock = DataBlock(blocks=(ImageBlock(cls=PILImageBW), CategoryBlock),\n",
    "                   get_items=get_image_files,\n",
    "                   get_y=parent_label,\n",
    "                   splitter=RandomSplitter(seed=42),\n",
    "                   batch_tfms=Normalize())"
   ]
  },
  {
   "cell_type": "code",
   "execution_count": 33,
   "metadata": {},
   "outputs": [],
   "source": [
    "dls = dblock.dataloaders(path/'training')"
   ]
  },
  {
   "cell_type": "code",
   "execution_count": 37,
   "metadata": {},
   "outputs": [
    {
     "data": {
      "text/plain": [
       "(torch.Size([64, 1, 28, 28]), torch.Size([64]))"
      ]
     },
     "execution_count": 37,
     "metadata": {},
     "output_type": "execute_result"
    }
   ],
   "source": [
    "xb, yb = dls.train.one_batch()\n",
    "xb.shape, yb.shape"
   ]
  },
  {
   "cell_type": "markdown",
   "metadata": {},
   "source": [
    "Sanity check to see if mean is 0 and standard deviation is 1"
   ]
  },
  {
   "cell_type": "code",
   "execution_count": 38,
   "metadata": {},
   "outputs": [
    {
     "data": {
      "text/plain": [
       "(TensorImageBW([-0.0038], device='cuda:0'),\n",
       " TensorImageBW([0.9965], device='cuda:0'))"
      ]
     },
     "execution_count": 38,
     "metadata": {},
     "output_type": "execute_result"
    }
   ],
   "source": [
    "xb.mean([0, 2, 3]), xb.std([0, 2, 3])"
   ]
  },
  {
   "cell_type": "code",
   "execution_count": 40,
   "metadata": {},
   "outputs": [
    {
     "data": {
      "image/png": "[encoded data removed]",
      "text/plain": [
       "<Figure size 1080x216 with 5 Axes>"
      ]
     },
     "metadata": {
      "needs_background": "light"
     },
     "output_type": "display_data"
    }
   ],
   "source": [
    "dls.show_batch(nrows=1, ncols=5)"
   ]
  },
  {
   "cell_type": "markdown",
   "metadata": {},
   "source": [
    "## Define model"
   ]
  },
  {
   "cell_type": "code",
   "execution_count": 211,
   "metadata": {},
   "outputs": [],
   "source": [
    "model = nn.Sequential(\n",
    "            nn.Conv2d(1, 32, 3),\n",
    "            nn.ReLU(),\n",
    "            nn.Conv2d(32, 64, 3),\n",
    "            nn.ReLU(),\n",
    "            nn.MaxPool2d(2),\n",
    "            nn.Dropout2d(0.4),\n",
    "            nn.Flatten(),\n",
    "            nn.Linear(9216, 128),\n",
    "            nn.ReLU(),\n",
    "            nn.Dropout(0.4),\n",
    "            nn.Linear(128, 10))"
   ]
  },
  {
   "cell_type": "code",
   "execution_count": 46,
   "metadata": {},
   "outputs": [
    {
     "data": {
      "text/plain": [
       "device(type='cpu')"
      ]
     },
     "execution_count": 46,
     "metadata": {},
     "output_type": "execute_result"
    }
   ],
   "source": [
    "next(model.parameters()).device"
   ]
  },
  {
   "cell_type": "code",
   "execution_count": 48,
   "metadata": {},
   "outputs": [],
   "source": [
    "model.cuda();"
   ]
  },
  {
   "cell_type": "code",
   "execution_count": 49,
   "metadata": {},
   "outputs": [
    {
     "data": {
      "text/plain": [
       "device(type='cuda', index=0)"
      ]
     },
     "execution_count": 49,
     "metadata": {},
     "output_type": "execute_result"
    }
   ],
   "source": [
    "next(model.parameters()).device"
   ]
  },
  {
   "cell_type": "markdown",
   "metadata": {},
   "source": [
    "## Define training loop which will implement *mixup*"
   ]
  },
  {
   "cell_type": "code",
   "execution_count": 120,
   "metadata": {},
   "outputs": [
    {
     "data": {
      "text/plain": [
       "750"
      ]
     },
     "execution_count": 120,
     "metadata": {},
     "output_type": "execute_result"
    }
   ],
   "source": [
    "len(dls.train)"
   ]
  },
  {
   "cell_type": "code",
   "execution_count": 234,
   "metadata": {},
   "outputs": [],
   "source": [
    "def train(model, dls, loss_func, optimizer, epochs, alpha):\n",
    "    # beta distribution to sample values of lambda\n",
    "    dist = torch.distributions.beta.Beta(torch.tensor([alpha]), \n",
    "                                         torch.tensor([alpha]))\n",
    "    \n",
    "    for i in range(epochs):\n",
    "        r_train_losses = []\n",
    "        r_val_losses = []\n",
    "        r_accs = []\n",
    "        # training phase\n",
    "        for xb, yb in dls.train:\n",
    "            optimizer.zero_grad()\n",
    "            \n",
    "            # for mixup, we have to randomly shuffle each batch\n",
    "            idx = torch.randperm(xb.shape[0])\n",
    "            xb_new = xb[idx]\n",
    "            yb_new = yb[idx]\n",
    "            # sample weights for each image in the batch from a beta distribution\n",
    "            lamda = dist.sample([xb.shape[0]]).cuda()\n",
    "            lamda = torch.max(lamda, 1-lamda) # remove duplicates\n",
    "            # add empty dimensions to match size of mini batch\n",
    "            lamda = lamda[:, None, None]\n",
    "            mixed_up_xb = lamda * xb + (1-lamda) * xb_new\n",
    "            \n",
    "            # forward pass \n",
    "            logits = model(mixed_up_xb)\n",
    "            # to avoiid using one hot labels, we perform the weighting of\n",
    "            # the labels on the loss instead\n",
    "            loss = lamda * loss_func(logits, yb) + (1-lamda) * loss_func(logits, yb_new)\n",
    "            loss = loss.mean()\n",
    "            # backward pass\n",
    "            loss.backward()\n",
    "            optimizer.step()\n",
    "            \n",
    "            r_train_losses.append(loss/xb.shape[0])\n",
    "            \n",
    "        # validation phase\n",
    "        for xb, yb in dls.valid:\n",
    "            with torch.no_grad():\n",
    "                model.eval() # put the model in eval mode\n",
    "                \n",
    "                logits = model(xb)\n",
    "                loss = loss_func(logits, yb)\n",
    "                loss = loss.mean()\n",
    "                r_val_losses.append(loss/xb.shape[0]) # add to running_losses\n",
    "                \n",
    "                acc = accuracy(logits, yb) # calculate accuracy\n",
    "                r_accs.append(acc)\n",
    "                \n",
    "        model.train() # put model back in training mode()\n",
    "        \n",
    "        print(f'Epoch: {i}/{epochs}, Train loss: {tensor(r_train_losses).mean():.4f}'\\\n",
    "              f'Val loss: {tensor(r_val_losses).mean():.4f} Val acc: {tensor(r_accs).mean():.4f}')\n",
    "            "
   ]
  },
  {
   "cell_type": "code",
   "execution_count": 235,
   "metadata": {},
   "outputs": [],
   "source": [
    "def accuracy(preds, targs):\n",
    "    preds = preds.softmax(dim=1)\n",
    "    return (preds.argmax(dim=-1) == targs).float().mean()"
   ]
  },
  {
   "cell_type": "markdown",
   "metadata": {},
   "source": [
    "## Define optimizer and loss function"
   ]
  },
  {
   "cell_type": "code",
   "execution_count": 236,
   "metadata": {},
   "outputs": [],
   "source": [
    "loss_func = nn.CrossEntropyLoss(reduction='none')"
   ]
  },
  {
   "cell_type": "code",
   "execution_count": 237,
   "metadata": {},
   "outputs": [],
   "source": [
    "optimizer = Adam(model.parameters(), lr=0.001)"
   ]
  },
  {
   "cell_type": "code",
   "execution_count": 238,
   "metadata": {},
   "outputs": [
    {
     "name": "stdout",
     "output_type": "stream",
     "text": [
      "Epoch: 0/20, Train loss: 0.0138Val loss: 0.0035 Val acc: 0.9811\n",
      "Epoch: 1/20, Train loss: 0.0130Val loss: 0.0029 Val acc: 0.9830\n",
      "Epoch: 2/20, Train loss: 0.0125Val loss: 0.0029 Val acc: 0.9834\n",
      "Epoch: 3/20, Train loss: 0.0123Val loss: 0.0028 Val acc: 0.9845\n",
      "Epoch: 4/20, Train loss: 0.0120Val loss: 0.0026 Val acc: 0.9851\n",
      "Epoch: 5/20, Train loss: 0.0118Val loss: 0.0028 Val acc: 0.9855\n",
      "Epoch: 6/20, Train loss: 0.0116Val loss: 0.0031 Val acc: 0.9860\n",
      "Epoch: 7/20, Train loss: 0.0115Val loss: 0.0031 Val acc: 0.9867\n",
      "Epoch: 8/20, Train loss: 0.0114Val loss: 0.0028 Val acc: 0.9844\n",
      "Epoch: 9/20, Train loss: 0.0113Val loss: 0.0024 Val acc: 0.9855\n",
      "Epoch: 10/20, Train loss: 0.0112Val loss: 0.0025 Val acc: 0.9865\n",
      "Epoch: 11/20, Train loss: 0.0111Val loss: 0.0022 Val acc: 0.9869\n",
      "Epoch: 12/20, Train loss: 0.0110Val loss: 0.0025 Val acc: 0.9867\n",
      "Epoch: 13/20, Train loss: 0.0111Val loss: 0.0028 Val acc: 0.9862\n",
      "Epoch: 14/20, Train loss: 0.0109Val loss: 0.0024 Val acc: 0.9875\n",
      "Epoch: 15/20, Train loss: 0.0110Val loss: 0.0026 Val acc: 0.9865\n",
      "Epoch: 16/20, Train loss: 0.0109Val loss: 0.0024 Val acc: 0.9847\n",
      "Epoch: 17/20, Train loss: 0.0108Val loss: 0.0023 Val acc: 0.9886\n",
      "Epoch: 18/20, Train loss: 0.0109Val loss: 0.0026 Val acc: 0.9872\n",
      "Epoch: 19/20, Train loss: 0.0108Val loss: 0.0029 Val acc: 0.9865\n"
     ]
    }
   ],
   "source": [
    "train(model, dls, loss_func, optimizer, 20, 0.5)"
   ]
  },
  {
   "cell_type": "code",
   "execution_count": null,
   "metadata": {},
   "outputs": [],
   "source": []
  }
 ],
 "metadata": {
  "environment": {
   "name": "pytorch-gpu.1-4.m46",
   "type": "gcloud",
   "uri": "gcr.io/deeplearning-platform-release/pytorch-gpu.1-4:m46"
  },
  "kernelspec": {
   "display_name": "Python 3",
   "language": "python",
   "name": "python3"
  },
  "language_info": {
   "codemirror_mode": {
    "name": "ipython",
    "version": 3
   },
   "file_extension": ".py",
   "mimetype": "text/x-python",
   "name": "python",
   "nbconvert_exporter": "python",
   "pygments_lexer": "ipython3",
   "version": "3.7.6"
  }
 },
 "nbformat": 4,
 "nbformat_minor": 4
}
