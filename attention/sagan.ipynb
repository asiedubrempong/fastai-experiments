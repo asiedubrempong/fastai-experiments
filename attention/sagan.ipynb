{
 "cells": [
  {
   "cell_type": "markdown",
   "metadata": {},
   "source": [
    "## Implementation of the self-attention module in the SAGAN paper.\n",
    "\n",
    "![self-attention module](images/sa.png)"
   ]
  },
  {
   "cell_type": "code",
   "execution_count": 1,
   "metadata": {},
   "outputs": [],
   "source": [
    "from fastai2.vision.all import *"
   ]
  },
  {
   "cell_type": "markdown",
   "metadata": {},
   "source": [
    "Dummy input"
   ]
  },
  {
   "cell_type": "code",
   "execution_count": 2,
   "metadata": {},
   "outputs": [],
   "source": [
    "x = torch.randn(32, 128, 64, 64) # ie. bs*c*h*w"
   ]
  },
  {
   "cell_type": "code",
   "execution_count": 41,
   "metadata": {},
   "outputs": [],
   "source": [
    "class SelfAttention(Module):\n",
    "    def __init__(self, n_c, k):\n",
    "        self.fx, self.gx, self.hx = [ConvLayer(n_c, n_c//k, ks=1, act_cls=None,\n",
    "                                               ndim=1, norm_type=NormType.Spectral)\n",
    "                                     for _ in range(3)]\n",
    "        self.vx = ConvLayer(n_c//k, n_c, ks=1, act_cls=None,\n",
    "                            ndim=1, norm_type=NormType.Spectral)\n",
    "        self.gamma = nn.Parameter(torch.zeros(1))\n",
    "        \n",
    "    def forward(self, x):\n",
    "        size = x.size()\n",
    "        x = x.view(*size[:-2], -1)\n",
    "        \n",
    "        f, g, h = self.fx(x), self.gx(x), self.hx(x)\n",
    "        att_map = F.softmax(torch.bmm(f.transpose(1,2), g), dim=1)\n",
    "        \n",
    "        v = self.vx(torch.bmm(h, att_map))\n",
    "        \n",
    "        return (v * self.gamma + x).view(*size).contiguous()"
   ]
  },
  {
   "cell_type": "markdown",
   "metadata": {},
   "source": [
    "Try"
   ]
  },
  {
   "cell_type": "code",
   "execution_count": 42,
   "metadata": {},
   "outputs": [],
   "source": [
    "att = SelfAttention(x.shape[1], 8)"
   ]
  },
  {
   "cell_type": "code",
   "execution_count": 43,
   "metadata": {},
   "outputs": [],
   "source": [
    "out = att(x)"
   ]
  },
  {
   "cell_type": "code",
   "execution_count": 44,
   "metadata": {},
   "outputs": [
    {
     "data": {
      "text/plain": [
       "torch.Size([32, 128, 64, 64])"
      ]
     },
     "execution_count": 44,
     "metadata": {},
     "output_type": "execute_result"
    }
   ],
   "source": [
    "out.shape"
   ]
  },
  {
   "cell_type": "code",
   "execution_count": null,
   "metadata": {},
   "outputs": [],
   "source": []
  }
 ],
 "metadata": {
  "kernelspec": {
   "display_name": "Python 3",
   "language": "python",
   "name": "python3"
  },
  "language_info": {
   "codemirror_mode": {
    "name": "ipython",
    "version": 3
   },
   "file_extension": ".py",
   "mimetype": "text/x-python",
   "name": "python",
   "nbconvert_exporter": "python",
   "pygments_lexer": "ipython3",
   "version": "3.7.6"
  }
 },
 "nbformat": 4,
 "nbformat_minor": 4
}
