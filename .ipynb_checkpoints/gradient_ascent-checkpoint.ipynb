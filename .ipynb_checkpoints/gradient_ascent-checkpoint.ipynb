{
 "cells": [
  {
   "cell_type": "code",
   "execution_count": null,
   "metadata": {},
   "outputs": [],
   "source": [
    "# \"Title\"\n",
    "> \"Awesome summary\"\n",
    "\n",
    "- toc: false\n",
    "- branch: master\n",
    "- badges: true\n",
    "- comments: true\n",
    "- categories: [fastpages, jupyter]\n",
    "- image: images/some_folder/your_image.png\n",
    "- hide: false\n",
    "- search_exclude: true\n",
    "- metadata_key1: metadata_value1\n",
    "- metadata_key2: metadata_value2"
   ]
  },
  {
   "cell_type": "code",
   "execution_count": null,
   "metadata": {},
   "outputs": [],
   "source": [
    "# \"I finally understood backpropagation: And you can too\"\n",
    "> \"Why the gradient is the direction of steepest ascent\"\n",
    "\n",
    "- toc: true \n",
    "- badges: true\n",
    "- hide_binder_badge: true\n",
    "- hide_colab_badge: true\n",
    "- comments: true\n",
    "- categories: [jupyter, foundations]\n",
    "- image: images/chart-preview.png"
   ]
  },
  {
   "cell_type": "markdown",
   "metadata": {},
   "source": [
    "# I finally understood backpropagation: And you can too\n",
    "---\n",
    "### Why the gradient is the direction of steepest ascent"
   ]
  },
  {
   "cell_type": "markdown",
   "metadata": {},
   "source": [
    "The backpropagation algorithm is one of the key ingredients for the training of neural networks, but it's also probably the most difficult concept to grasp in understanding how things really work. At least in my own experience, it's been the one thing that I've struggled to gain a deep understanding of. After juggling between a plethora of materials on the subject, I got my own eureka moment and the pieces fell into place. Like me you may also be self-taught through online courses and may have done a couple of projects but you still feel that twinge of `half-knowledge`, of only vaguely understanding what is actually going on when you are training neural networks (or any other maching learning model)."
   ]
  },
  {
   "cell_type": "markdown",
   "metadata": {},
   "source": [
    "In this multi-part series (sorry, I can't cram everything into one article), I would be letting you in on the intuition that I've developed, hoping that you would build on this to develop an even better understanding of this all important concept. I also provide links to the resources that have been of great help to me. "
   ]
  },
  {
   "cell_type": "markdown",
   "metadata": {},
   "source": [
    "## Let's begin with the gradient"
   ]
  },
  {
   "cell_type": "markdown",
   "metadata": {},
   "source": [
    "But why? \n",
    "Because that was the `most glossed over` bit for me. Many online courses would just tell you that backpropagation finds the `partial derivative` of the loss function with respect to the weights (ie. the gradient) and takes a step in the direction opposite to this gradient; because the **gradient points in the direction of steepest ascent**, taking a step in the opposite direction would mean we move in **the direction of steepest descent**. But they never state why, I mean the why of the why. We take a step in the direction opposite to the gradient because it points in the direction of steepest ascent but the question (for me) really is: How did the gradient get to be the direction of steepest ascent?"
   ]
  },
  {
   "cell_type": "markdown",
   "metadata": {},
   "source": [
    "## Reviewing gradients"
   ]
  },
  {
   "cell_type": "markdown",
   "metadata": {},
   "source": [
    "The gradient is just a vector containing all the partial derivatives of a function. Hence the key idea here is really the concept of `partial derivatives`. Partial derivatives tell us how much a function would change when we keep all but one of it's input variables constant and move a slight nudge in the direction of the one variable that is not fixed."
   ]
  },
  {
   "cell_type": "markdown",
   "metadata": {},
   "source": [
    "As an aside, typical neural networks contain thousands of parameters but for simplicity and ease of visualization, we would be considering functions with two variables: $f(x,y)$. Fortunately, everything we do here would generalize nicely to any number of dimensions."
   ]
  },
  {
   "cell_type": "markdown",
   "metadata": {},
   "source": [
    "For our two-variable case, the partial derivative tells us how much the output of the function would change if we keep say the $y$ variable constant and move a slight nudge in the $x$ direction and vice versa."
   ]
  },
  {
   "cell_type": "markdown",
   "metadata": {},
   "source": [
    "**Concretely**\n",
    "\n",
    "![](one.png)"
   ]
  },
  {
   "cell_type": "markdown",
   "metadata": {},
   "source": [
    "We are at the point `(1, 5)` in our input space which corresponds to a particular point `t` in the ouput plane, that is the output of our function is `t` for an input of `(1, 2)`. The partial derivative with respect to $x$ tells us how much change would result in the output if we keep $y$ fixed at `5` and move slightly in the $x$ direction. Simarly, the partial derivative with respect to $y$ measures the resulting change in output when $x$ is fixed at `1` and we move a little nudge in the $y$ direction."
   ]
  },
  {
   "cell_type": "markdown",
   "metadata": {},
   "source": [
    "Let's consider the function: $f(x,y)=x^2y$. The partial derivative with respect to $x$, $\\frac{\\partial f}{\\partial x}$ is $2xy$, ie. we keep the $y$ as a constant and differentiate the whole term. Likewise the partial derivative with respect to $x$, $\\frac{\\partial f}{\\partial y}$ is $x^2$. \n",
    "\n",
    "Rembering that the gradient packs together all the partial derivative into a vector, the gradient of this function would be: $$\\nabla f=\\begin{bmatrix} 2xy \\\\ x^2 \\end{bmatrix}$$"
   ]
  },
  {
   "cell_type": "markdown",
   "metadata": {},
   "source": [
    "The problem with partial derivatives is that they only tell us how things would change if we move in only one direction. Partial derivatives are `partial` because neither of them tells us the full story of how our function $f(x,y)$ changes when it's inputs changes. However, we do not only want to know how things change when we move in either the $x$ or $y$ direction, we want to know how much things would change if we move in any arbitrary direction within the input space. \n",
    "\n",
    "That's exactly what `directional derivatives` are for. The directional derivative in a direction say $\\vec{w}$ tells us how much the output of the function would change if we move a slight nudge in the direction of the vecor $\\vec{w}$. The directional derivative is found by taking the `dot product` of the gradient of the function and $\\vec{w}$ ie. the direction in which we want to move.\n",
    "\n",
    "$$\\nabla_\\vec{w} f=\\nabla f \\cdot \\vec{w}$$ \n",
    "\n",
    "If $\\vec{w}=\\begin{bmatrix} w_1 \\\\ w_2 \\end{bmatrix}$, then the directional derivative, $\\nabla_\\vec{w} f$ is equal to $\\begin{bmatrix} 2xy \\\\ x^2 \\end{bmatrix} \\cdot \\begin{bmatrix} w_1 \\\\ w_2 \\end{bmatrix} = 2xy(w_1) + x^2(w_2)$\n",
    "\n",
    "Another way to look at this is to consider that in our input plane (ie. the x,y plane), any point or direction in this plane can be thought of as a combination of movements in the $x$ and $y$ directions.\n",
    "\n",
    "![](two.png)\n",
    "\n",
    "In the image above, $\\vec{w}=\\begin{bmatrix} 2 \\\\ 5 \\end{bmatrix}$ is combination of 2 steps in the $x$ directions and 5 steps in the $y$ direction. So intuitively, taking a step along some arbitrary direction causes a change along the x-axis as well as along the y-axis. Taking the dot product for the directional derivative sums the changes along the x and y axis."
   ]
  },
  {
   "cell_type": "markdown",
   "metadata": {},
   "source": [
    "So now we have directional derivatives which are essentially a generalization of partial derivatives to deal with any arbitrary direction in our input plane. When training neural networks, the problem we seek to solve is: given that we are at a point say `(1, 5)` which corresponds to a loss (the output of our function) of `t`, which **direction** results in the greatest increase in our loss? Once we know this **direction** we take a step in the opposite **direction** which would lead to the greatest reduction in the loss. Notice that I'm placing an intentional emphasis on the word **direction**. We are looking for the best direction and lucky enough we already have a tool that gives a measure of how good (or bad) a particular direction is, which as you may have guessed is the `directional derivative`.\n",
    "\n",
    "With directional derivatives, one way we could solve this problem is to find the directional derivative of all possible directions in which we could move. The best direction would be the direction with the largest directional derivative. But that would be too slow to compute, think about the number of possible directions in which we could move, the list is endless. However, the idea is good, we just need a simpler way to find the direction with the maximum directional derivative.\n",
    "\n",
    "Our objective now is to find: "
   ]
  },
  {
   "cell_type": "markdown",
   "metadata": {},
   "source": [
    "$$\\max_{\\lvert \\vec{w} \\rvert =1} \\nabla f(a, b) \\cdot \\vec{w}$$\n",
    "\n",
    "Notice that the vectors in the equation above have a magnitude or length of 1. In a sense this ensures that we don't end up picking the wrong vector just because it has a larger magnitude than the rest and hence would maximize the dot product even though it's pointing in the wrong direction.\n",
    "\n",
    "The directional derivative as has already been stated is found by taking the dot product of the gradient and the vector pointing in our desired direction. The dot product possesses a very nice property that would allow us to find the direction that maximizes the directional derivative without having to consider all the possible directions. The dot product measures the similarity between two vectors. It assigns a score to how much the two vectors are travelling in the same direction. Formally, the dot product between two vectors $\\vec{u}$ and $\\vec{v}$ is: \n",
    "$$\\vec{u} \\cdot \\vec{v} = \\lvert \\vec{u} \\rvert \\lvert \\vec{v} \\rvert cos \\theta$$\n",
    "\n",
    "Where $\\theta$ is the angle between the two vectors. \n",
    "\n",
    "<<<<<<<<<<<<<<<<<<<<<<<<<<<`insert image`\n",
    "\n",
    "In the illustration above, when $\\vec{u}=\\begin{bmatrix} 0 \\\\ 1 \\end{bmatrix}$ and $\\vec{v}=\\begin{bmatrix} 1 \\\\ 0 \\end{bmatrix}$, their dot product is 0 because there is no similarity between them, $\\vec{u}$ is pointing purely in the $x$ direction (it has no $y$ component whiles $\\vec{v}$ also points solely in the $y$ direction. The angle between them is $90^\\circ$ (they are perpendicular) and $cos(90^\\circ)=0$. When, $\\vec{u}=\\begin{bmatrix} 0 \\\\ 1 \\end{bmatrix}$ and $\\vec{v}=\\begin{bmatrix} 0 \\\\ 1 \\end{bmatrix}$, the dot product is maximized because they are pointing in the same direction. The dot product in this case is 1 and the angle between them is $0^\\circ$\n",
    "$$\\vec{u} \\cdot \\vec{v} = 1 \\cdot 1 \\cdot cos(0^\\circ) = 1$$\n",
    "Both vectors have a length of 1. From the foregoing, it is not difficult to grasp the fact that we are driving at, which is that, for unit length vectors, the dot product is maximized when the two vectors are parallel, that is they point in the same direction."
   ]
  },
  {
   "cell_type": "markdown",
   "metadata": {},
   "source": [
    "To remind us of our objective, we want to find the vector that maximizes the directional derivative:\n",
    "$$\\max_{\\lvert \\vec{w} \\rvert =1} \\nabla f(a, b) \\cdot \\vec{w}$$\n",
    "\n",
    "The directional derivative is also a dot product and so it flows naturally from our understanding of dot products that the vector that would maximize the directional derivative and result in the greatest increase in our function is the vector that points in the same direction as the gradient ie. the gradient itself making it the direction of steepest ascent. Gradient descent takes a step in the opposite direction because our objective in training is to minimize, not to maximize the loss function.\n",
    "\n",
    "Hopefully you've gained some usefull insights from this post, the next article would take a look at the chain rule and bring everything together with a concrete implementation in numpy."
   ]
  },
  {
   "cell_type": "markdown",
   "metadata": {},
   "source": [
    "### Resources\n",
    "\n",
    "Partial and Directional derivatives: [Khan Academy: Multivariable calculus](https://www.khanacademy.org/math/multivariable-calculus/multivariable-derivatives)\n",
    "<br>Dot products: [Khan Academy: Linear Algebra](https://www.khanacademy.org/math/linear-algebra/vectors-and-spaces/dot-cross-products/v/vector-dot-product-and-vector-length)\n",
    "<br>Calculus: [3Blue1Brown](https://www.youtube.com/watch?v=WUvTyaaNkzM&list=PLZHQObOWTQDMsr9K-rj53DwVRMYO3t5Yr)"
   ]
  },
  {
   "cell_type": "code",
   "execution_count": null,
   "metadata": {},
   "outputs": [],
   "source": []
  }
 ],
 "metadata": {
  "kernelspec": {
   "display_name": "Python 3",
   "language": "python",
   "name": "python3"
  },
  "language_info": {
   "codemirror_mode": {
    "name": "ipython",
    "version": 3
   },
   "file_extension": ".py",
   "mimetype": "text/x-python",
   "name": "python",
   "nbconvert_exporter": "python",
   "pygments_lexer": "ipython3",
   "version": "3.7.6"
  }
 },
 "nbformat": 4,
 "nbformat_minor": 4
}
