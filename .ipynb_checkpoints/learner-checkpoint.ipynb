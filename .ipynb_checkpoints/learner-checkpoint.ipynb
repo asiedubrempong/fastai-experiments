{
 "cells": [
  {
   "cell_type": "markdown",
   "metadata": {},
   "source": [
    "# Implementing the Fastai Learner from scratch "
   ]
  },
  {
   "cell_type": "code",
   "execution_count": 1,
   "metadata": {},
   "outputs": [],
   "source": [
    "from fastai2.vision.all import *\n",
    "\n",
    "matplotlib.rc('image', cmap='Greys')"
   ]
  },
  {
   "cell_type": "markdown",
   "metadata": {},
   "source": [
    "## Get the data "
   ]
  },
  {
   "cell_type": "code",
   "execution_count": 2,
   "metadata": {},
   "outputs": [],
   "source": [
    "path = untar_data(URLs.MNIST)"
   ]
  },
  {
   "cell_type": "code",
   "execution_count": 3,
   "metadata": {},
   "outputs": [
    {
     "data": {
      "text/plain": [
       "(#2) [Path('training'),Path('testing')]"
      ]
     },
     "execution_count": 3,
     "metadata": {},
     "output_type": "execute_result"
    }
   ],
   "source": [
    "Path.BASE_PATH = path\n",
    "path.ls()"
   ]
  },
  {
   "cell_type": "code",
   "execution_count": 7,
   "metadata": {},
   "outputs": [
    {
     "data": {
      "text/plain": [
       "(#10) [Path('training/0'),Path('training/2'),Path('training/9'),Path('training/8'),Path('training/7'),Path('training/1'),Path('training/5'),Path('training/4'),Path('training/6'),Path('training/3')]"
      ]
     },
     "execution_count": 7,
     "metadata": {},
     "output_type": "execute_result"
    }
   ],
   "source": [
    "(path/'training').ls()"
   ]
  },
  {
   "cell_type": "code",
   "execution_count": 8,
   "metadata": {},
   "outputs": [],
   "source": [
    "dls = ImageDataLoaders.from_folder(path, train='training', valid='testing')"
   ]
  },
  {
   "cell_type": "code",
   "execution_count": 9,
   "metadata": {},
   "outputs": [],
   "source": [
    "im, l = first(dls.train)"
   ]
  },
  {
   "cell_type": "code",
   "execution_count": 10,
   "metadata": {},
   "outputs": [
    {
     "data": {
      "text/plain": [
       "torch.Size([64, 3, 28, 28])"
      ]
     },
     "execution_count": 10,
     "metadata": {},
     "output_type": "execute_result"
    }
   ],
   "source": [
    "im.shape"
   ]
  },
  {
   "cell_type": "code",
   "execution_count": 11,
   "metadata": {},
   "outputs": [
    {
     "data": {
      "text/plain": [
       "torch.Size([64])"
      ]
     },
     "execution_count": 11,
     "metadata": {},
     "output_type": "execute_result"
    }
   ],
   "source": [
    "l.shape"
   ]
  },
  {
   "cell_type": "code",
   "execution_count": 12,
   "metadata": {},
   "outputs": [
    {
     "data": {
      "text/plain": [
       "TensorCategory([6, 0, 1, 1, 3, 3, 7, 5, 3, 9, 8, 4, 8, 1, 9, 5, 3, 5, 2, 2, 6, 2, 2, 7,\n",
       "        4, 4, 8, 7, 2, 9, 1, 0, 1, 3, 3, 0, 6, 8, 4, 4, 4, 0, 0, 1, 2, 7, 1, 4,\n",
       "        5, 7, 7, 9, 8, 8, 9, 2, 6, 5, 8, 3, 7, 6, 2, 4], device='cuda:0')"
      ]
     },
     "execution_count": 12,
     "metadata": {},
     "output_type": "execute_result"
    }
   ],
   "source": [
    "l"
   ]
  },
  {
   "cell_type": "code",
   "execution_count": 13,
   "metadata": {},
   "outputs": [
    {
     "data": {
      "image/png": "[encoded data removed]",
      "text/plain": [
       "<Figure size 864x216 with 4 Axes>"
      ]
     },
     "metadata": {
      "needs_background": "light"
     },
     "output_type": "display_data"
    }
   ],
   "source": [
    "dls.show_batch(max_n=4, nrows=1)"
   ]
  },
  {
   "cell_type": "markdown",
   "metadata": {},
   "source": [
    "Let's look at what a Learner object requires:\n",
    "\n",
    "<img src='images/learner.png' />"
   ]
  },
  {
   "cell_type": "markdown",
   "metadata": {},
   "source": [
    "Some of these are parameters are for quite advanced functionalities but basically we need:\n",
    "   - a DataLoaders object containing a training DataLoader and a validation DataLoader\n",
    "   - a model we want to train\n",
    "   - a loss function\n",
    "   - an optimizer\n",
    "   - a learning rate for the optimizer and \n",
    "   - some metrics to be used to evaluate the model on the validation set"
   ]
  },
  {
   "cell_type": "markdown",
   "metadata": {},
   "source": [
    "### *The model*"
   ]
  },
  {
   "cell_type": "code",
   "execution_count": 14,
   "metadata": {},
   "outputs": [],
   "source": [
    "model = nn.Sequential(\n",
    "            nn.Conv2d(3, 32, 3),\n",
    "            nn.ReLU(),\n",
    "            nn.Conv2d(32, 64, 3),\n",
    "            nn.ReLU(),\n",
    "            nn.MaxPool2d(2),\n",
    "            nn.Dropout2d(0.4),\n",
    "            nn.Flatten(),\n",
    "            nn.Linear(9216, 128),\n",
    "            nn.ReLU(),\n",
    "            nn.Dropout(0.4),\n",
    "            nn.Linear(128, 10))"
   ]
  },
  {
   "cell_type": "code",
   "execution_count": 15,
   "metadata": {},
   "outputs": [],
   "source": [
    "model.cuda();"
   ]
  },
  {
   "cell_type": "markdown",
   "metadata": {},
   "source": [
    "### *The metric*\n",
    "\n",
    "Let's define a function to find the accuracy"
   ]
  },
  {
   "cell_type": "code",
   "execution_count": 16,
   "metadata": {},
   "outputs": [],
   "source": [
    "def cal_accuracy(preds, targets):\n",
    "    preds = preds.softmax(dim=1)\n",
    "    # find the index with highest probability value\n",
    "    preds_i = preds.max(1).indices\n",
    "    #targets_i = targets.max(1).indices\n",
    "    return (preds_i == targets).float().mean()"
   ]
  },
  {
   "cell_type": "markdown",
   "metadata": {},
   "source": [
    "For the loss function, we use the the cross entropy loss function provided by PyTorch, ie. `F.cross_entropy`"
   ]
  },
  {
   "cell_type": "markdown",
   "metadata": {},
   "source": [
    "### *Learner*"
   ]
  },
  {
   "cell_type": "code",
   "execution_count": 17,
   "metadata": {},
   "outputs": [],
   "source": [
    "class BasicLearner:\n",
    "    def __init__(self, dls, model, loss_func, opt_func, lr, metric):\n",
    "        self.model = model\n",
    "        self.dls = dls\n",
    "        self.loss_func = loss_func\n",
    "        self.optim = opt_func(model.parameters(), lr)\n",
    "        self.lr = lr\n",
    "        self.metric = metric\n",
    "    \n",
    "    def fit(self, epochs):\n",
    "        print(f'Epoch Train_loss  Valid_loss  {self.metric.__name__}')\n",
    "        for epoch in range(epochs):\n",
    "            # train\n",
    "            trn_loss = self.train_epoch()\n",
    "            # validate\n",
    "            val_loss, met = self.validate_epoch()\n",
    "            print(f'{epoch+1}\\t{trn_loss:.4f}\\t   {val_loss:.4f}\\t{met:.4f}')\n",
    "    \n",
    "    def train_epoch(self):\n",
    "        losses = []\n",
    "        for xb, yb in self.dls.train:\n",
    "            losses.append(self.calc_grad(xb, yb))\n",
    "            self.optim.step()\n",
    "            self.optim.zero_grad()\n",
    "        return torch.stack(losses).mean()\n",
    "        \n",
    "    def calc_grad(self, xb, yb):\n",
    "        preds = self.model(xb)\n",
    "        loss = self.loss_func(preds, yb)\n",
    "        loss.backward()\n",
    "        return loss\n",
    "    \n",
    "    def validate_epoch(self):\n",
    "        losses = []\n",
    "        mets = []\n",
    "        with torch.no_grad():\n",
    "            for xb, yb in self.dls.valid:\n",
    "                preds = self.model(xb)\n",
    "                losses.append(self.loss_func(preds, yb))\n",
    "                mets.append(self.metric(preds, yb))\n",
    "        return torch.stack(losses).mean(), torch.stack(mets).mean()\n",
    "                \n",
    "                "
   ]
  },
  {
   "cell_type": "code",
   "execution_count": 18,
   "metadata": {},
   "outputs": [],
   "source": [
    "learn = BasicLearner(dls, model, F.cross_entropy, SGD, 1e-3, cal_accuracy)"
   ]
  },
  {
   "cell_type": "code",
   "execution_count": 19,
   "metadata": {},
   "outputs": [
    {
     "name": "stdout",
     "output_type": "stream",
     "text": [
      "Epoch Train_loss  Valid_loss  cal_accuracy\n",
      "1\t2.2385\t   2.0933\t0.5213\n",
      "2\t1.4417\t   0.8041\t0.7780\n",
      "3\t0.6417\t   0.5116\t0.8557\n",
      "4\t0.4948\t   0.4338\t0.8781\n",
      "5\t0.4252\t   0.3867\t0.8909\n",
      "6\t0.3843\t   0.3477\t0.8980\n",
      "7\t0.3521\t   0.3203\t0.9110\n",
      "8\t0.3286\t   0.2978\t0.9161\n",
      "9\t0.3042\t   0.2803\t0.9172\n",
      "10\t0.2878\t   0.2645\t0.9259\n"
     ]
    }
   ],
   "source": [
    "learn.fit(10)"
   ]
  },
  {
   "cell_type": "code",
   "execution_count": null,
   "metadata": {},
   "outputs": [],
   "source": []
  }
 ],
 "metadata": {
  "kernelspec": {
   "display_name": "Python 3",
   "language": "python",
   "name": "python3"
  },
  "language_info": {
   "codemirror_mode": {
    "name": "ipython",
    "version": 3
   },
   "file_extension": ".py",
   "mimetype": "text/x-python",
   "name": "python",
   "nbconvert_exporter": "python",
   "pygments_lexer": "ipython3",
   "version": "3.7.6"
  }
 },
 "nbformat": 4,
 "nbformat_minor": 4
}
